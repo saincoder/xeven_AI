{
  "cells": [
    {
      "cell_type": "markdown",
      "metadata": {
        "id": "view-in-github",
        "colab_type": "text"
      },
      "source": [
        "<a href=\"https://colab.research.google.com/github/saincoder404/xeven_AI/blob/master/Regression_Pytorch.ipynb\" target=\"_parent\"><img src=\"https://colab.research.google.com/assets/colab-badge.svg\" alt=\"Open In Colab\"/></a>"
      ]
    },
    {
      "cell_type": "markdown",
      "metadata": {
        "id": "bkhgv0TvyoP9"
      },
      "source": [
        "# **Regression**\n",
        "## **Standard (Fully Connected) Neural Network**\n",
        "\n",
        "You will Learn the following\n",
        "1. Loading dataset\n",
        "2. Preprocessing the dataset\n",
        "3. Defination of Neural Network\n",
        "4. Training a Neural Network\n",
        "5. Testing a Neural Network"
      ]
    },
    {
      "cell_type": "markdown",
      "metadata": {
        "id": "mlGwSQEVyoQA"
      },
      "source": [
        "## **Loading Required packages and Data**"
      ]
    },
    {
      "cell_type": "code",
      "source": [
        "# !pip install sklearn"
      ],
      "metadata": {
        "id": "4iedqkpTI8oK"
      },
      "execution_count": 1,
      "outputs": []
    },
    {
      "cell_type": "code",
      "source": [
        "import torch\n",
        "import torch.nn as nn\n",
        "import torch.optim as optim\n",
        "from sklearn.datasets import fetch_california_housing\n",
        "from sklearn.model_selection import train_test_split\n",
        "from sklearn.preprocessing import StandardScaler\n",
        "from sklearn.metrics import mean_squared_error\n",
        "import pandas as pd"
      ],
      "metadata": {
        "id": "iz_8YTrmSR1D"
      },
      "execution_count": 2,
      "outputs": []
    },
    {
      "cell_type": "code",
      "source": [
        "# Load the California Housing dataset\n",
        "data = fetch_california_housing()\n",
        "X = data.data\n",
        "y = data.target"
      ],
      "metadata": {
        "id": "B50N3vENSUjq"
      },
      "execution_count": 3,
      "outputs": []
    },
    {
      "cell_type": "markdown",
      "source": [
        "## **Quick Look on Data**"
      ],
      "metadata": {
        "id": "SKRR07YLmemx"
      }
    },
    {
      "cell_type": "code",
      "source": [
        "# Convert X and y to Pandas DataFrames\n",
        "X_df = pd.DataFrame(X, columns=data.feature_names)\n",
        "\n",
        "# Display the loaded data\n",
        "print(\"California Housing Data:\")\n",
        "print(X_df.head())"
      ],
      "metadata": {
        "colab": {
          "base_uri": "https://localhost:8080/"
        },
        "id": "D85FByWteoaL",
        "outputId": "5726e0e6-8f53-4977-91cf-6d28c2505bb4"
      },
      "execution_count": 4,
      "outputs": [
        {
          "output_type": "stream",
          "name": "stdout",
          "text": [
            "California Housing Data:\n",
            "   MedInc  HouseAge  AveRooms  AveBedrms  Population  AveOccup  Latitude  \\\n",
            "0  8.3252      41.0  6.984127   1.023810       322.0  2.555556     37.88   \n",
            "1  8.3014      21.0  6.238137   0.971880      2401.0  2.109842     37.86   \n",
            "2  7.2574      52.0  8.288136   1.073446       496.0  2.802260     37.85   \n",
            "3  5.6431      52.0  5.817352   1.073059       558.0  2.547945     37.85   \n",
            "4  3.8462      52.0  6.281853   1.081081       565.0  2.181467     37.85   \n",
            "\n",
            "   Longitude  \n",
            "0    -122.23  \n",
            "1    -122.22  \n",
            "2    -122.24  \n",
            "3    -122.25  \n",
            "4    -122.25  \n"
          ]
        }
      ]
    },
    {
      "cell_type": "code",
      "source": [
        "y_df = pd.DataFrame(y, columns=[\"target\"])\n",
        "\n",
        "print(\"\\nCalifornia Housing Target:\")\n",
        "print(y_df.head())"
      ],
      "metadata": {
        "colab": {
          "base_uri": "https://localhost:8080/"
        },
        "id": "GhPaMxi9Xy6y",
        "outputId": "b7f2a1c5-0b56-47de-cb88-ebf1612d57bc"
      },
      "execution_count": 5,
      "outputs": [
        {
          "output_type": "stream",
          "name": "stdout",
          "text": [
            "\n",
            "California Housing Target:\n",
            "   target\n",
            "0   4.526\n",
            "1   3.585\n",
            "2   3.521\n",
            "3   3.413\n",
            "4   3.422\n"
          ]
        }
      ]
    },
    {
      "cell_type": "markdown",
      "source": [
        "## **Splitting the Data into train and test sets**"
      ],
      "metadata": {
        "id": "7rjm8wVhmmAJ"
      }
    },
    {
      "cell_type": "code",
      "source": [
        "# Split the dataset into training and testing sets\n",
        "X_train, X_test, y_train, y_test = train_test_split(X, y, test_size=0.2, random_state=42)"
      ],
      "metadata": {
        "id": "HlIv5HC0SV2J"
      },
      "execution_count": 6,
      "outputs": []
    },
    {
      "cell_type": "markdown",
      "source": [
        "## **Normalizing the data**"
      ],
      "metadata": {
        "id": "bEt_-lKUmuM6"
      }
    },
    {
      "cell_type": "code",
      "source": [
        "# Standardize the input features\n",
        "scaler = StandardScaler()\n",
        "X_train = scaler.fit_transform(X_train)\n",
        "X_test = scaler.transform(X_test)\n",
        "\n",
        "print(X_train)"
      ],
      "metadata": {
        "id": "LHolN5geSX3Q",
        "colab": {
          "base_uri": "https://localhost:8080/"
        },
        "outputId": "e2abf2bb-ce88-46be-d027-a6d35304ecb6"
      },
      "execution_count": 7,
      "outputs": [
        {
          "output_type": "stream",
          "name": "stdout",
          "text": [
            "[[-0.326196    0.34849025 -0.17491646 ...  0.05137609 -1.3728112\n",
            "   1.27258656]\n",
            " [-0.03584338  1.61811813 -0.40283542 ... -0.11736222 -0.87669601\n",
            "   0.70916212]\n",
            " [ 0.14470145 -1.95271028  0.08821601 ... -0.03227969 -0.46014647\n",
            "  -0.44760309]\n",
            " ...\n",
            " [-0.49697313  0.58654547 -0.60675918 ...  0.02030568 -0.75500738\n",
            "   0.59946887]\n",
            " [ 0.96545045 -1.07984112  0.40217517 ...  0.00707608  0.90651045\n",
            "  -1.18553953]\n",
            " [-0.68544764  1.85617335 -0.85144571 ... -0.08535429  0.99543676\n",
            "  -1.41489815]]\n"
          ]
        }
      ]
    },
    {
      "cell_type": "markdown",
      "source": [
        "## **Conversion into Tensors**"
      ],
      "metadata": {
        "id": "C6flNzFsm00m"
      }
    },
    {
      "cell_type": "code",
      "source": [
        "# Convert data to PyTorch tensors\n",
        "X_train = torch.FloatTensor(X_train)\n",
        "y_train = torch.FloatTensor(y_train)\n",
        "X_test = torch.FloatTensor(X_test)\n",
        "y_test = torch.FloatTensor(y_test)\n",
        "\n",
        "print(X_train)"
      ],
      "metadata": {
        "id": "821nDqU4SZxJ",
        "colab": {
          "base_uri": "https://localhost:8080/"
        },
        "outputId": "b214dfdd-f294-4ffb-ffd7-0cf1c2ceb1f7"
      },
      "execution_count": 8,
      "outputs": [
        {
          "output_type": "stream",
          "name": "stdout",
          "text": [
            "tensor([[-0.3262,  0.3485, -0.1749,  ...,  0.0514, -1.3728,  1.2726],\n",
            "        [-0.0358,  1.6181, -0.4028,  ..., -0.1174, -0.8767,  0.7092],\n",
            "        [ 0.1447, -1.9527,  0.0882,  ..., -0.0323, -0.4601, -0.4476],\n",
            "        ...,\n",
            "        [-0.4970,  0.5865, -0.6068,  ...,  0.0203, -0.7550,  0.5995],\n",
            "        [ 0.9655, -1.0798,  0.4022,  ...,  0.0071,  0.9065, -1.1855],\n",
            "        [-0.6854,  1.8562, -0.8514,  ..., -0.0854,  0.9954, -1.4149]])\n"
          ]
        }
      ]
    },
    {
      "cell_type": "markdown",
      "source": [
        "## **Defining the Model**"
      ],
      "metadata": {
        "id": "9-ezetwOm7Wb"
      }
    },
    {
      "cell_type": "code",
      "source": [
        "# Define a simple regression model\n",
        "class RegressionModel(nn.Module):\n",
        "    def __init__(self, input_size):\n",
        "        super(RegressionModel, self).__init__()\n",
        "        self.fc1 = nn.Linear(input_size, 64)\n",
        "        self.relu = nn.ReLU()\n",
        "        self.fc2 = nn.Linear(64, 128)\n",
        "        self.relu = nn.ReLU()\n",
        "        self.fc3 = nn.Linear(128, 10)\n",
        "        self.relu = nn.ReLU()\n",
        "        self.fc4 = nn.Linear(10,1)\n",
        "\n",
        "    def forward(self, x):\n",
        "        x = self.fc1(x)\n",
        "        x = self.relu(x)\n",
        "        x = self.fc2(x)\n",
        "        x = self.relu(x)\n",
        "        x = self.fc3(x)\n",
        "        x = self.relu(x)\n",
        "        x = self.fc4(x)\n",
        "        return x"
      ],
      "metadata": {
        "id": "fd3VyQ_5ScWR"
      },
      "execution_count": 9,
      "outputs": []
    },
    {
      "cell_type": "code",
      "source": [
        "# Create the model\n",
        "input_size = X_train.shape[1]\n",
        "print(input_size)\n",
        "model = RegressionModel(input_size)\n",
        "print(model)"
      ],
      "metadata": {
        "colab": {
          "base_uri": "https://localhost:8080/"
        },
        "id": "vVgqxDU1Skx5",
        "outputId": "d18d082d-52b3-4346-b146-128bc161c16e"
      },
      "execution_count": 10,
      "outputs": [
        {
          "output_type": "stream",
          "name": "stdout",
          "text": [
            "8\n",
            "RegressionModel(\n",
            "  (fc1): Linear(in_features=8, out_features=64, bias=True)\n",
            "  (relu): ReLU()\n",
            "  (fc2): Linear(in_features=64, out_features=128, bias=True)\n",
            "  (fc3): Linear(in_features=128, out_features=10, bias=True)\n",
            "  (fc4): Linear(in_features=10, out_features=1, bias=True)\n",
            ")\n"
          ]
        }
      ]
    },
    {
      "cell_type": "markdown",
      "source": [
        "## **Loss function & Optimizer**"
      ],
      "metadata": {
        "id": "iYJBKTbOnghV"
      }
    },
    {
      "cell_type": "code",
      "source": [
        "# Define loss and optimizer\n",
        "Lossf = nn.MSELoss()\n",
        "optimizer = optim.SGD(model.parameters(), lr=0.001)"
      ],
      "metadata": {
        "id": "J4NjPCiTWpAY"
      },
      "execution_count": 11,
      "outputs": []
    },
    {
      "cell_type": "markdown",
      "source": [
        "## **Training**"
      ],
      "metadata": {
        "id": "7lUGyHG-nmlx"
      }
    },
    {
      "cell_type": "code",
      "source": [
        "# Training loop\n",
        "num_epochs = 500\n",
        "for epoch in range(num_epochs):\n",
        "    # Forward pass\n",
        "    outputs = model(X_train)\n",
        "    loss = Lossf(outputs, y_train.view(-1, 1))\n",
        "\n",
        "    # Backward pass and optimization\n",
        "    optimizer.zero_grad()\n",
        "    loss.backward()\n",
        "    optimizer.step()\n",
        "\n",
        "    if (epoch + 1) % 10 == 0:\n",
        "        print(f'Epoch [{epoch+1}/{num_epochs}], Loss: {loss.item():.4f}')"
      ],
      "metadata": {
        "colab": {
          "base_uri": "https://localhost:8080/"
        },
        "id": "xbEoJVrkWqzg",
        "outputId": "d0b61ffc-96be-4982-cc58-47b19af3823e"
      },
      "execution_count": 16,
      "outputs": [
        {
          "output_type": "stream",
          "name": "stdout",
          "text": [
            "Epoch [10/500], Loss: 1.0115\n",
            "Epoch [20/500], Loss: 1.0024\n",
            "Epoch [30/500], Loss: 0.9934\n",
            "Epoch [40/500], Loss: 0.9845\n",
            "Epoch [50/500], Loss: 0.9758\n",
            "Epoch [60/500], Loss: 0.9673\n",
            "Epoch [70/500], Loss: 0.9589\n",
            "Epoch [80/500], Loss: 0.9506\n",
            "Epoch [90/500], Loss: 0.9425\n",
            "Epoch [100/500], Loss: 0.9345\n",
            "Epoch [110/500], Loss: 0.9266\n",
            "Epoch [120/500], Loss: 0.9190\n",
            "Epoch [130/500], Loss: 0.9114\n",
            "Epoch [140/500], Loss: 0.9040\n",
            "Epoch [150/500], Loss: 0.8967\n",
            "Epoch [160/500], Loss: 0.8895\n",
            "Epoch [170/500], Loss: 0.8824\n",
            "Epoch [180/500], Loss: 0.8755\n",
            "Epoch [190/500], Loss: 0.8687\n",
            "Epoch [200/500], Loss: 0.8620\n",
            "Epoch [210/500], Loss: 0.8554\n",
            "Epoch [220/500], Loss: 0.8489\n",
            "Epoch [230/500], Loss: 0.8426\n",
            "Epoch [240/500], Loss: 0.8364\n",
            "Epoch [250/500], Loss: 0.8304\n",
            "Epoch [260/500], Loss: 0.8244\n",
            "Epoch [270/500], Loss: 0.8186\n",
            "Epoch [280/500], Loss: 0.8129\n",
            "Epoch [290/500], Loss: 0.8073\n",
            "Epoch [300/500], Loss: 0.8018\n",
            "Epoch [310/500], Loss: 0.7964\n",
            "Epoch [320/500], Loss: 0.7912\n",
            "Epoch [330/500], Loss: 0.7861\n",
            "Epoch [340/500], Loss: 0.7811\n",
            "Epoch [350/500], Loss: 0.7762\n",
            "Epoch [360/500], Loss: 0.7714\n",
            "Epoch [370/500], Loss: 0.7668\n",
            "Epoch [380/500], Loss: 0.7623\n",
            "Epoch [390/500], Loss: 0.7579\n",
            "Epoch [400/500], Loss: 0.7536\n",
            "Epoch [410/500], Loss: 0.7494\n",
            "Epoch [420/500], Loss: 0.7454\n",
            "Epoch [430/500], Loss: 0.7415\n",
            "Epoch [440/500], Loss: 0.7376\n",
            "Epoch [450/500], Loss: 0.7339\n",
            "Epoch [460/500], Loss: 0.7303\n",
            "Epoch [470/500], Loss: 0.7268\n",
            "Epoch [480/500], Loss: 0.7235\n",
            "Epoch [490/500], Loss: 0.7202\n",
            "Epoch [500/500], Loss: 0.7170\n"
          ]
        }
      ]
    },
    {
      "cell_type": "markdown",
      "source": [
        "## **Saving the Model weights**"
      ],
      "metadata": {
        "id": "0r0dIGXUn9kb"
      }
    },
    {
      "cell_type": "code",
      "source": [
        "# Save the trained model\n",
        "torch.save(model.state_dict(), 'california_housing_model.pth')"
      ],
      "metadata": {
        "id": "Br9b2AE2Zi7q"
      },
      "execution_count": 17,
      "outputs": []
    },
    {
      "cell_type": "markdown",
      "source": [
        "## **Load the Models Weights**"
      ],
      "metadata": {
        "id": "lbUYevMAoIvy"
      }
    },
    {
      "cell_type": "code",
      "source": [
        "# Load the model for future use\n",
        "loaded_model = RegressionModel(input_size)\n",
        "loaded_model.load_state_dict(torch.load('california_housing_model.pth'))"
      ],
      "metadata": {
        "colab": {
          "base_uri": "https://localhost:8080/"
        },
        "id": "_qai-djxa2sY",
        "outputId": "54a67b94-ae5a-4d40-f2e7-efdeab7b9fbb"
      },
      "execution_count": 18,
      "outputs": [
        {
          "output_type": "execute_result",
          "data": {
            "text/plain": [
              "<All keys matched successfully>"
            ]
          },
          "metadata": {},
          "execution_count": 18
        }
      ]
    },
    {
      "cell_type": "code",
      "source": [
        "# Evaluate the loaded model on the test set\n",
        "with torch.no_grad():\n",
        "    y_pred = loaded_model(X_test)\n",
        "    mse = mean_squared_error(y_test.numpy(), y_pred.numpy())\n",
        "    print(f'Mean Squared Error on Test Data (Loaded Model): {mse:.4f}')"
      ],
      "metadata": {
        "colab": {
          "base_uri": "https://localhost:8080/"
        },
        "id": "K58YdgSdfov5",
        "outputId": "05c414b5-8074-4be1-b0da-fe1603a2d93c"
      },
      "execution_count": 19,
      "outputs": [
        {
          "output_type": "stream",
          "name": "stdout",
          "text": [
            "Mean Squared Error on Test Data (Loaded Model): 0.7192\n"
          ]
        }
      ]
    }
  ],
  "metadata": {
    "colab": {
      "provenance": [],
      "include_colab_link": true
    },
    "kernelspec": {
      "display_name": "Python 3",
      "language": "python",
      "name": "python3"
    },
    "language_info": {
      "codemirror_mode": {
        "name": "ipython",
        "version": 3
      },
      "file_extension": ".py",
      "mimetype": "text/x-python",
      "name": "python",
      "nbconvert_exporter": "python",
      "pygments_lexer": "ipython3",
      "version": "3.6.9"
    }
  },
  "nbformat": 4,
  "nbformat_minor": 0
}
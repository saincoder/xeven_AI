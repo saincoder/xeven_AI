{
  "nbformat": 4,
  "nbformat_minor": 0,
  "metadata": {
    "colab": {
      "provenance": [],
      "authorship_tag": "ABX9TyOlgLRJCt+S2v4Jdu5r/+wt",
      "include_colab_link": true
    },
    "kernelspec": {
      "name": "python3",
      "display_name": "Python 3"
    },
    "language_info": {
      "name": "python"
    }
  },
  "cells": [
    {
      "cell_type": "markdown",
      "metadata": {
        "id": "view-in-github",
        "colab_type": "text"
      },
      "source": [
        "<a href=\"https://colab.research.google.com/github/saincoder404/xeven_task/blob/master/HTS_Assignment_03.ipynb\" target=\"_parent\"><img src=\"https://colab.research.google.com/assets/colab-badge.svg\" alt=\"Open In Colab\"/></a>"
      ]
    },
    {
      "cell_type": "markdown",
      "source": [
        "# ***Assignment_03***"
      ],
      "metadata": {
        "id": "w69Ubjkw0NVp"
      }
    },
    {
      "cell_type": "markdown",
      "source": [
        "***Task_1***\n",
        "\n",
        "Write a program that prints the multiplication table of a given number using a for\n",
        "loop."
      ],
      "metadata": {
        "id": "kiFpQLC00M1P"
      }
    },
    {
      "cell_type": "code",
      "execution_count": null,
      "metadata": {
        "colab": {
          "base_uri": "https://localhost:8080/"
        },
        "id": "LBcQHrsL0CzT",
        "outputId": "47a5bd5c-811e-4539-ea6d-f125f89ea34b"
      },
      "outputs": [
        {
          "output_type": "stream",
          "name": "stdout",
          "text": [
            "Enter a number: 99\n",
            "Multiplication table for 99\n",
            "99,x,1 = 99\n",
            "99,x,2 = 198\n",
            "99,x,3 = 297\n",
            "99,x,4 = 396\n",
            "99,x,5 = 495\n",
            "99,x,6 = 594\n",
            "99,x,7 = 693\n",
            "99,x,8 = 792\n",
            "99,x,9 = 891\n",
            "99,x,10 = 990\n"
          ]
        }
      ],
      "source": [
        "# input the number from the user of which you want to print the multiplicaion table.\n",
        "num = int(input(\"Enter a number: \"))\n",
        "\n",
        "# print the title of the table\n",
        "print(f\"Multiplication table for\", num)\n",
        "\n",
        "# iterate number from 1 to 10 to generate the table\n",
        "for i in range(1, 11):\n",
        "# print expression and it result\n",
        "  print(f\"{num},x,{i} = {num*i}\")\n"
      ]
    },
    {
      "cell_type": "markdown",
      "source": [
        "***Task_2***\n",
        "\n",
        "Write a program that prints all the even numbers from 1 to 10 using a while loop"
      ],
      "metadata": {
        "id": "L2Rq7TS72iaO"
      }
    },
    {
      "cell_type": "code",
      "source": [
        "# Initialize a variable to strt from 1\n",
        "num = 1\n",
        "\n",
        "# Iterate using while loop until num reaches 10\n",
        "while num <= 10:\n",
        "  if num % 2 == 0:\n",
        "    #print the even number\n",
        "    print(num)\n",
        "  # increments num for next iteration\n",
        "  num += 1"
      ],
      "metadata": {
        "colab": {
          "base_uri": "https://localhost:8080/"
        },
        "id": "JqBGYhsS05LT",
        "outputId": "e6f54b53-a2ec-4671-e972-b595ed981f02"
      },
      "execution_count": null,
      "outputs": [
        {
          "output_type": "stream",
          "name": "stdout",
          "text": [
            "2\n",
            "4\n",
            "6\n",
            "8\n",
            "10\n"
          ]
        }
      ]
    },
    {
      "cell_type": "markdown",
      "source": [
        "***Task_03***\n",
        "\n",
        "Write a function called \"greet_user\" that takes a user's name as an argument and\n",
        "prints a personalized greeting message."
      ],
      "metadata": {
        "id": "J6gyo3Rk4Kx6"
      }
    },
    {
      "cell_type": "code",
      "source": [
        "# create function and pass the name as a parameter\n",
        "\n",
        "def greet_user(name):\n",
        "\n",
        "#print a personalized greeting message using the user name\n",
        "  print(f\"Hello {name}, Welcome to Xeven\")\n",
        "\n",
        "# user name input\n",
        "user_name = input('Please Enter your name: ')\n",
        "\n",
        "# call the function with the user_name as a agrument\n",
        "greet_user(user_name)"
      ],
      "metadata": {
        "colab": {
          "base_uri": "https://localhost:8080/"
        },
        "id": "kUSdyFJW4Jp6",
        "outputId": "8ff3f662-2b76-43d3-8152-c77cda51efa7"
      },
      "execution_count": null,
      "outputs": [
        {
          "output_type": "stream",
          "name": "stdout",
          "text": [
            "Please Enter your name: Shahid\n",
            "Hello Shahid, Welcome to Xeven\n"
          ]
        }
      ]
    },
    {
      "cell_type": "markdown",
      "source": [
        "***Task_4***\n",
        "\n",
        "Write a function called \"is_even\" that takes a number as an argument and returns\n",
        "True if the number is even, and False otherwise."
      ],
      "metadata": {
        "id": "T4wN9h5159EC"
      }
    },
    {
      "cell_type": "code",
      "source": [
        "# create function and pass the number as a parameter\n",
        "\n",
        "def is_even(number):\n",
        "  # checking the number is even or not\n",
        "  if number % 2 == 0:\n",
        "    return True\n",
        "  else:\n",
        "    return False\n",
        "\n",
        "# number Input\n",
        "num = int(input(\"Enter a number: \"))\n",
        "# call the function and pass the argument and print the result\n",
        "print(is_even(num))"
      ],
      "metadata": {
        "colab": {
          "base_uri": "https://localhost:8080/"
        },
        "id": "YRBORfGR5NFn",
        "outputId": "641369cc-8bc5-4877-e59e-6d41cf67acb3"
      },
      "execution_count": null,
      "outputs": [
        {
          "output_type": "stream",
          "name": "stdout",
          "text": [
            "Enter a number: 10\n",
            "True\n"
          ]
        }
      ]
    },
    {
      "cell_type": "code",
      "source": [],
      "metadata": {
        "id": "IwoOa7c27HCl"
      },
      "execution_count": null,
      "outputs": []
    }
  ]
}